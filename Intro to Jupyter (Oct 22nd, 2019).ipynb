{
 "cells": [
  {
   "cell_type": "code",
   "execution_count": 80,
   "metadata": {},
   "outputs": [
    {
     "data": {
      "text/html": [
       "\n",
       "<script>\n",
       "code_show=true;\n",
       "function code_toggle(){\n",
       "if(code_show){\n",
       "$('div.input').hide();\n",
       "}else{\n",
       "$('div.inout').show();\n",
       "}\n",
       "code_show = !code_show\n",
       "}\n",
       "$( document ).read(code_toggle);\n",
       "</script>\n",
       "To toggle on/off the code, click <a href=\"javascript:code_toggle()\">here</a>\n",
       "\n"
      ],
      "text/plain": [
       "<IPython.core.display.HTML object>"
      ]
     },
     "execution_count": 80,
     "metadata": {},
     "output_type": "execute_result"
    }
   ],
   "source": [
    "# Adding code to hide code cells within our notebook\n",
    "from IPython.display import HTML\n",
    "\n",
    "HTML(\n",
    "'''\n",
    "<script>\n",
    "code_show=true;\n",
    "function code_toggle(){\n",
    "if(code_show){\n",
    "$('div.input').hide();\n",
    "}else{\n",
    "$('div.inout').show();\n",
    "}\n",
    "code_show = !code_show\n",
    "}\n",
    "$( document ).read(code_toggle);\n",
    "</script>\n",
    "To toggle on/off the code, click <a href=\"javascript:code_toggle()\">here</a>\n",
    "'''\n",
    ")"
   ]
  },
  {
   "cell_type": "markdown",
   "metadata": {},
   "source": [
    "<h1 align='center'>Exploring Stats Can dataset</h1>\n",
    "\n",
    "Author: Zubia Mansoor\n",
    "\n",
    "Created on: October 22 2019"
   ]
  },
  {
   "cell_type": "markdown",
   "metadata": {},
   "source": [
    "<h2 align='center'>Abstract</h2>\n",
    "\n",
    "In this notebook we will explore a Stats Can dataset, perform basic data exploration and visualization\n",
    "\n",
    "https://www150.statcan.gc.ca/t1/tbl1/en/tv.action?pid=1310011101"
   ]
  },
  {
   "cell_type": "markdown",
   "metadata": {},
   "source": [
    "<h3 align='center'>Importing the dataset from Stats Can </h3>\n",
    "We first begin by downloading by downloading the data and importing Python libraries.\n",
    "\n",
    "This particular dataset contains information on \"Number and rates of new cases of primary cancer, by cancer type, age group and sex\".\n",
    "\n",
    "Reference:...."
   ]
  },
  {
   "cell_type": "code",
   "execution_count": null,
   "metadata": {},
   "outputs": [],
   "source": []
  },
  {
   "cell_type": "code",
   "execution_count": 9,
   "metadata": {},
   "outputs": [],
   "source": [
    "# Importing libraries and modules\n",
    "import pandas as pd\n",
    "import zipfile\n",
    "import matplotlib.pyplot as plt\n",
    "from matplotlib.pyplot import figure"
   ]
  },
  {
   "cell_type": "code",
   "execution_count": 10,
   "metadata": {},
   "outputs": [],
   "source": [
    "# Downloading the data\n",
    "# !wget https://bit.ly/2JbKmPs ; try option 2 of uploading data from dropbox"
   ]
  },
  {
   "cell_type": "code",
   "execution_count": 17,
   "metadata": {},
   "outputs": [],
   "source": [
    "# Define a function to extract the data\n",
    "def read_data_compute_df(data_file):\n",
    "    # Read zipped file\n",
    "    zf = zipfile.ZipFile(data_file)\n",
    "    # Parse csv content without unzipping\n",
    "    df = pd.read_csv(zf.open(str(13100111)+'.csv'),low_memory=False)\n",
    "    return(df)"
   ]
  },
  {
   "cell_type": "code",
   "execution_count": 20,
   "metadata": {},
   "outputs": [],
   "source": [
    "# Manual download file_name =\"./13100111-eng.zip\"\n",
    "file_name = \"./13100111.csv\"\n",
    "cancer_data = pd.read_csv(file_name,low_memory=False)"
   ]
  },
  {
   "cell_type": "code",
   "execution_count": null,
   "metadata": {},
   "outputs": [],
   "source": [
    "We look at the first five entries of the StatsCan dataset. We notice lots ....."
   ]
  },
  {
   "cell_type": "code",
   "execution_count": 24,
   "metadata": {
    "scrolled": true
   },
   "outputs": [
    {
     "data": {
      "text/html": [
       "<div>\n",
       "<style scoped>\n",
       "    .dataframe tbody tr th:only-of-type {\n",
       "        vertical-align: middle;\n",
       "    }\n",
       "\n",
       "    .dataframe tbody tr th {\n",
       "        vertical-align: top;\n",
       "    }\n",
       "\n",
       "    .dataframe thead th {\n",
       "        text-align: right;\n",
       "    }\n",
       "</style>\n",
       "<table border=\"1\" class=\"dataframe\">\n",
       "  <thead>\n",
       "    <tr style=\"text-align: right;\">\n",
       "      <th></th>\n",
       "      <th>REF_DATE</th>\n",
       "      <th>GEO</th>\n",
       "      <th>DGUID</th>\n",
       "      <th>Age group</th>\n",
       "      <th>Sex</th>\n",
       "      <th>Primary types of cancer (ICD-O-3)</th>\n",
       "      <th>Characteristics</th>\n",
       "      <th>UOM</th>\n",
       "      <th>UOM_ID</th>\n",
       "      <th>SCALAR_FACTOR</th>\n",
       "      <th>SCALAR_ID</th>\n",
       "      <th>VECTOR</th>\n",
       "      <th>COORDINATE</th>\n",
       "      <th>VALUE</th>\n",
       "      <th>STATUS</th>\n",
       "      <th>SYMBOL</th>\n",
       "      <th>TERMINATED</th>\n",
       "      <th>DECIMALS</th>\n",
       "    </tr>\n",
       "  </thead>\n",
       "  <tbody>\n",
       "    <tr>\n",
       "      <th>0</th>\n",
       "      <td>1992</td>\n",
       "      <td>Canada</td>\n",
       "      <td>2016A000011124</td>\n",
       "      <td>Total, all ages</td>\n",
       "      <td>Both sexes</td>\n",
       "      <td>Total, all primary sites of cancer [C00.0-C80.9]</td>\n",
       "      <td>Number of new cancer cases</td>\n",
       "      <td>Number</td>\n",
       "      <td>223</td>\n",
       "      <td>units</td>\n",
       "      <td>0</td>\n",
       "      <td>v43786579</td>\n",
       "      <td>1.1.1.1.1</td>\n",
       "      <td>116310.0</td>\n",
       "      <td>NaN</td>\n",
       "      <td>NaN</td>\n",
       "      <td>NaN</td>\n",
       "      <td>0</td>\n",
       "    </tr>\n",
       "    <tr>\n",
       "      <th>1</th>\n",
       "      <td>1992</td>\n",
       "      <td>Canada</td>\n",
       "      <td>2016A000011124</td>\n",
       "      <td>Total, all ages</td>\n",
       "      <td>Both sexes</td>\n",
       "      <td>Total, all primary sites of cancer [C00.0-C80.9]</td>\n",
       "      <td>Cancer incidence</td>\n",
       "      <td>Rate per 100,000 population</td>\n",
       "      <td>265</td>\n",
       "      <td>units</td>\n",
       "      <td>0</td>\n",
       "      <td>v43786580</td>\n",
       "      <td>1.1.1.1.2</td>\n",
       "      <td>410.0</td>\n",
       "      <td>NaN</td>\n",
       "      <td>NaN</td>\n",
       "      <td>NaN</td>\n",
       "      <td>1</td>\n",
       "    </tr>\n",
       "    <tr>\n",
       "      <th>2</th>\n",
       "      <td>1992</td>\n",
       "      <td>Canada</td>\n",
       "      <td>2016A000011124</td>\n",
       "      <td>Total, all ages</td>\n",
       "      <td>Both sexes</td>\n",
       "      <td>Total, all primary sites of cancer [C00.0-C80.9]</td>\n",
       "      <td>Low 95% confidence interval, cancer incidence</td>\n",
       "      <td>Rate per 100,000 population</td>\n",
       "      <td>265</td>\n",
       "      <td>units</td>\n",
       "      <td>0</td>\n",
       "      <td>v43786581</td>\n",
       "      <td>1.1.1.1.3</td>\n",
       "      <td>407.6</td>\n",
       "      <td>NaN</td>\n",
       "      <td>NaN</td>\n",
       "      <td>NaN</td>\n",
       "      <td>1</td>\n",
       "    </tr>\n",
       "    <tr>\n",
       "      <th>3</th>\n",
       "      <td>1992</td>\n",
       "      <td>Canada</td>\n",
       "      <td>2016A000011124</td>\n",
       "      <td>Total, all ages</td>\n",
       "      <td>Both sexes</td>\n",
       "      <td>Total, all primary sites of cancer [C00.0-C80.9]</td>\n",
       "      <td>High 95% confidence interval, cancer incidence</td>\n",
       "      <td>Rate per 100,000 population</td>\n",
       "      <td>265</td>\n",
       "      <td>units</td>\n",
       "      <td>0</td>\n",
       "      <td>v43786582</td>\n",
       "      <td>1.1.1.1.4</td>\n",
       "      <td>412.3</td>\n",
       "      <td>NaN</td>\n",
       "      <td>NaN</td>\n",
       "      <td>NaN</td>\n",
       "      <td>1</td>\n",
       "    </tr>\n",
       "    <tr>\n",
       "      <th>4</th>\n",
       "      <td>1992</td>\n",
       "      <td>Canada</td>\n",
       "      <td>2016A000011124</td>\n",
       "      <td>Total, all ages</td>\n",
       "      <td>Both sexes</td>\n",
       "      <td>Lip [C00.0-C00.9]</td>\n",
       "      <td>Number of new cancer cases</td>\n",
       "      <td>Number</td>\n",
       "      <td>223</td>\n",
       "      <td>units</td>\n",
       "      <td>0</td>\n",
       "      <td>v43786659</td>\n",
       "      <td>1.1.1.2.1</td>\n",
       "      <td>620.0</td>\n",
       "      <td>NaN</td>\n",
       "      <td>NaN</td>\n",
       "      <td>NaN</td>\n",
       "      <td>0</td>\n",
       "    </tr>\n",
       "  </tbody>\n",
       "</table>\n",
       "</div>"
      ],
      "text/plain": [
       "   REF_DATE     GEO           DGUID        Age group         Sex  \\\n",
       "0      1992  Canada  2016A000011124  Total, all ages  Both sexes   \n",
       "1      1992  Canada  2016A000011124  Total, all ages  Both sexes   \n",
       "2      1992  Canada  2016A000011124  Total, all ages  Both sexes   \n",
       "3      1992  Canada  2016A000011124  Total, all ages  Both sexes   \n",
       "4      1992  Canada  2016A000011124  Total, all ages  Both sexes   \n",
       "\n",
       "                  Primary types of cancer (ICD-O-3)  \\\n",
       "0  Total, all primary sites of cancer [C00.0-C80.9]   \n",
       "1  Total, all primary sites of cancer [C00.0-C80.9]   \n",
       "2  Total, all primary sites of cancer [C00.0-C80.9]   \n",
       "3  Total, all primary sites of cancer [C00.0-C80.9]   \n",
       "4                                 Lip [C00.0-C00.9]   \n",
       "\n",
       "                                  Characteristics  \\\n",
       "0                      Number of new cancer cases   \n",
       "1                                Cancer incidence   \n",
       "2   Low 95% confidence interval, cancer incidence   \n",
       "3  High 95% confidence interval, cancer incidence   \n",
       "4                      Number of new cancer cases   \n",
       "\n",
       "                           UOM  UOM_ID SCALAR_FACTOR  SCALAR_ID     VECTOR  \\\n",
       "0                       Number     223        units           0  v43786579   \n",
       "1  Rate per 100,000 population     265        units           0  v43786580   \n",
       "2  Rate per 100,000 population     265        units           0  v43786581   \n",
       "3  Rate per 100,000 population     265        units           0  v43786582   \n",
       "4                       Number     223        units           0  v43786659   \n",
       "\n",
       "  COORDINATE     VALUE STATUS  SYMBOL  TERMINATED  DECIMALS  \n",
       "0  1.1.1.1.1  116310.0    NaN     NaN         NaN         0  \n",
       "1  1.1.1.1.2     410.0    NaN     NaN         NaN         1  \n",
       "2  1.1.1.1.3     407.6    NaN     NaN         NaN         1  \n",
       "3  1.1.1.1.4     412.3    NaN     NaN         NaN         1  \n",
       "4  1.1.1.2.1     620.0    NaN     NaN         NaN         0  "
      ]
     },
     "execution_count": 24,
     "metadata": {},
     "output_type": "execute_result"
    }
   ],
   "source": [
    "cancer_data.head()"
   ]
  },
  {
   "cell_type": "code",
   "execution_count": 26,
   "metadata": {},
   "outputs": [],
   "source": [
    "# Clean up dataset\n",
    "clean_cancer_data = cancer_data.drop(columns =\n",
    "                                    [\"DGUID\", \"UOM_ID\", \"UOM\", \"SCALAR_ID\",\"VECTOR\", \"COORDINATE\", \"STATUS\",\\\n",
    "                                    \"TERMINATED\", \"DECIMALS\",\"SYMBOL\"])"
   ]
  },
  {
   "cell_type": "markdown",
   "metadata": {},
   "source": [
    "In our case, and after cleaning up the data, we have dates which range from 1992 to 2007, all province sin Canada, multiple age groups, male, female and both sexes, multiple primary types of ......"
   ]
  },
  {
   "cell_type": "code",
   "execution_count": 27,
   "metadata": {
    "scrolled": false
   },
   "outputs": [
    {
     "data": {
      "text/html": [
       "<div>\n",
       "<style scoped>\n",
       "    .dataframe tbody tr th:only-of-type {\n",
       "        vertical-align: middle;\n",
       "    }\n",
       "\n",
       "    .dataframe tbody tr th {\n",
       "        vertical-align: top;\n",
       "    }\n",
       "\n",
       "    .dataframe thead th {\n",
       "        text-align: right;\n",
       "    }\n",
       "</style>\n",
       "<table border=\"1\" class=\"dataframe\">\n",
       "  <thead>\n",
       "    <tr style=\"text-align: right;\">\n",
       "      <th></th>\n",
       "      <th>REF_DATE</th>\n",
       "      <th>GEO</th>\n",
       "      <th>Age group</th>\n",
       "      <th>Sex</th>\n",
       "      <th>Primary types of cancer (ICD-O-3)</th>\n",
       "      <th>Characteristics</th>\n",
       "      <th>SCALAR_FACTOR</th>\n",
       "      <th>VALUE</th>\n",
       "    </tr>\n",
       "  </thead>\n",
       "  <tbody>\n",
       "    <tr>\n",
       "      <th>0</th>\n",
       "      <td>1992</td>\n",
       "      <td>Canada</td>\n",
       "      <td>Total, all ages</td>\n",
       "      <td>Both sexes</td>\n",
       "      <td>Total, all primary sites of cancer [C00.0-C80.9]</td>\n",
       "      <td>Number of new cancer cases</td>\n",
       "      <td>units</td>\n",
       "      <td>116310.0</td>\n",
       "    </tr>\n",
       "    <tr>\n",
       "      <th>1</th>\n",
       "      <td>1992</td>\n",
       "      <td>Canada</td>\n",
       "      <td>Total, all ages</td>\n",
       "      <td>Both sexes</td>\n",
       "      <td>Total, all primary sites of cancer [C00.0-C80.9]</td>\n",
       "      <td>Cancer incidence</td>\n",
       "      <td>units</td>\n",
       "      <td>410.0</td>\n",
       "    </tr>\n",
       "    <tr>\n",
       "      <th>2</th>\n",
       "      <td>1992</td>\n",
       "      <td>Canada</td>\n",
       "      <td>Total, all ages</td>\n",
       "      <td>Both sexes</td>\n",
       "      <td>Total, all primary sites of cancer [C00.0-C80.9]</td>\n",
       "      <td>Low 95% confidence interval, cancer incidence</td>\n",
       "      <td>units</td>\n",
       "      <td>407.6</td>\n",
       "    </tr>\n",
       "    <tr>\n",
       "      <th>3</th>\n",
       "      <td>1992</td>\n",
       "      <td>Canada</td>\n",
       "      <td>Total, all ages</td>\n",
       "      <td>Both sexes</td>\n",
       "      <td>Total, all primary sites of cancer [C00.0-C80.9]</td>\n",
       "      <td>High 95% confidence interval, cancer incidence</td>\n",
       "      <td>units</td>\n",
       "      <td>412.3</td>\n",
       "    </tr>\n",
       "    <tr>\n",
       "      <th>4</th>\n",
       "      <td>1992</td>\n",
       "      <td>Canada</td>\n",
       "      <td>Total, all ages</td>\n",
       "      <td>Both sexes</td>\n",
       "      <td>Lip [C00.0-C00.9]</td>\n",
       "      <td>Number of new cancer cases</td>\n",
       "      <td>units</td>\n",
       "      <td>620.0</td>\n",
       "    </tr>\n",
       "  </tbody>\n",
       "</table>\n",
       "</div>"
      ],
      "text/plain": [
       "   REF_DATE     GEO        Age group         Sex  \\\n",
       "0      1992  Canada  Total, all ages  Both sexes   \n",
       "1      1992  Canada  Total, all ages  Both sexes   \n",
       "2      1992  Canada  Total, all ages  Both sexes   \n",
       "3      1992  Canada  Total, all ages  Both sexes   \n",
       "4      1992  Canada  Total, all ages  Both sexes   \n",
       "\n",
       "                  Primary types of cancer (ICD-O-3)  \\\n",
       "0  Total, all primary sites of cancer [C00.0-C80.9]   \n",
       "1  Total, all primary sites of cancer [C00.0-C80.9]   \n",
       "2  Total, all primary sites of cancer [C00.0-C80.9]   \n",
       "3  Total, all primary sites of cancer [C00.0-C80.9]   \n",
       "4                                 Lip [C00.0-C00.9]   \n",
       "\n",
       "                                  Characteristics SCALAR_FACTOR     VALUE  \n",
       "0                      Number of new cancer cases        units   116310.0  \n",
       "1                                Cancer incidence        units      410.0  \n",
       "2   Low 95% confidence interval, cancer incidence        units      407.6  \n",
       "3  High 95% confidence interval, cancer incidence        units      412.3  \n",
       "4                      Number of new cancer cases        units      620.0  "
      ]
     },
     "execution_count": 27,
     "metadata": {},
     "output_type": "execute_result"
    }
   ],
   "source": [
    "clean_cancer_data.head()"
   ]
  },
  {
   "cell_type": "markdown",
   "metadata": {},
   "source": [
    "Now that we have cleaned our dataset, we want to get all unique values for each category"
   ]
  },
  {
   "cell_type": "code",
   "execution_count": 30,
   "metadata": {},
   "outputs": [],
   "source": [
    "# Get data subsets\n",
    "dates = clean_cancer_data.iloc[:,0].unique()\n",
    "geog = clean_cancer_data.iloc[:,1].unique()\n",
    "age_group = clean_cancer_data.iloc[:,2].unique()\n",
    "sex = clean_cancer_data.iloc[:,3].unique()\n",
    "cancer_type = clean_cancer_data.iloc[:,4].unique()\n",
    "characteristics = clean_cancer_data.iloc[:,5].unique()"
   ]
  },
  {
   "cell_type": "code",
   "execution_count": 29,
   "metadata": {},
   "outputs": [
    {
     "data": {
      "text/plain": [
       "array([1992, 1993, 1994, 1995, 1996, 1997, 1998, 1999, 2000, 2001, 2002,\n",
       "       2003, 2004, 2005, 2006, 2007, 2008, 2009, 2010, 2011, 2012, 2013,\n",
       "       2014, 2015, 2016])"
      ]
     },
     "execution_count": 29,
     "metadata": {},
     "output_type": "execute_result"
    }
   ],
   "source": [
    "dates"
   ]
  },
  {
   "cell_type": "code",
   "execution_count": 31,
   "metadata": {},
   "outputs": [
    {
     "data": {
      "text/plain": [
       "array(['Canada', 'Canada (excluding Quebec)', 'Newfoundland and Labrador',\n",
       "       'Prince Edward Island', 'Nova Scotia', 'New Brunswick', 'Quebec',\n",
       "       'Ontario', 'Manitoba', 'Saskatchewan', 'Alberta',\n",
       "       'British Columbia', 'Yukon', 'Northwest Territories', 'Nunavut'],\n",
       "      dtype=object)"
      ]
     },
     "execution_count": 31,
     "metadata": {},
     "output_type": "execute_result"
    }
   ],
   "source": [
    "geog"
   ]
  },
  {
   "cell_type": "code",
   "execution_count": 32,
   "metadata": {},
   "outputs": [
    {
     "data": {
      "text/plain": [
       "array(['Total, all ages', '0 to 4 years', '5 to 9 years',\n",
       "       '10 to 14 years', '15 to 19 years', '20 to 24 years',\n",
       "       '25 to 29 years', '30 to 34 years', '35 to 39 years',\n",
       "       '40 to 44 years', '45 to 49 years', '50 to 54 years',\n",
       "       '55 to 59 years', '60 to 64 years', '65 to 69 years',\n",
       "       '70 to 74 years', '75 to 79 years', '80 to 84 years',\n",
       "       '85 to 89 years', '90 years and over', 'Age group, not stated'],\n",
       "      dtype=object)"
      ]
     },
     "execution_count": 32,
     "metadata": {},
     "output_type": "execute_result"
    }
   ],
   "source": [
    "age_group"
   ]
  },
  {
   "cell_type": "code",
   "execution_count": 33,
   "metadata": {},
   "outputs": [
    {
     "data": {
      "text/plain": [
       "array(['Both sexes', 'Males', 'Females'], dtype=object)"
      ]
     },
     "execution_count": 33,
     "metadata": {},
     "output_type": "execute_result"
    }
   ],
   "source": [
    "sex"
   ]
  },
  {
   "cell_type": "code",
   "execution_count": 34,
   "metadata": {
    "scrolled": true
   },
   "outputs": [
    {
     "data": {
      "text/plain": [
       "array(['Total, all primary sites of cancer [C00.0-C80.9]',\n",
       "       'Lip [C00.0-C00.9]', 'Tongue [C01.9-C02.9]',\n",
       "       'Salivary gland [C07.9-C08.9]', 'Floor of mouth [C04.0-C04.9]',\n",
       "       'Gum and other mouth [C03.0-C03.9, C05.0-C05.9, C06.0-C06.9]',\n",
       "       'Nasopharynx [C11.0-C11.9]', 'Oropharynx [C10.0-C10.9]',\n",
       "       'Hypopharynx [C12.9, C13.0-C13.9]',\n",
       "       'Other oral cavity and pharynx [C09.0-C09.9, C14.0-C14.8]',\n",
       "       'Esophagus [C15.0-C15.9]', 'Stomach [C16.0-C16.9]',\n",
       "       'Small intestine [C17.0-C17.9]',\n",
       "       'Colon and rectum [C18.0-C18.9, C19.9, C20.9, C26.0]',\n",
       "       'Colon excluding rectum [C18.0-C18.9, C26.0]',\n",
       "       'Rectum and rectosigmoid [C19.9, C20.9]',\n",
       "       'Anus, anal canal and anorectum [C21.0-C21.8]', 'Liver [C22.0]',\n",
       "       'Gallbladder [C23.9]', 'Pancreas [C25.0-C25.9]',\n",
       "       'Other digestive system [C22.1, C24.0-C24.9, C26.8-C26.9, C48.0-C48.8]',\n",
       "       'Larynx [C32.0-C32.9]', 'Lung and bronchus [C34.0-C34.9]',\n",
       "       'Other respiratory system [C30.0-C30.1, C31.0-C31.9, C33.9, C38.1-C38.8, C39.0-C39.9]',\n",
       "       'Bones and joints [C40.0-C41.9]',\n",
       "       'Soft tissue (including heart) [C38.0, C47.0-C47.9, C49.0-C49.9]',\n",
       "       'Melanomas of the skin [C44.0-C44.9, 8720-8790]',\n",
       "       'Other non-epithelial skin [C44.0-C44.9]', 'Breast [C50.0-C50.9]',\n",
       "       'Cervix uteri [C53.0-C53.9]', 'Corpus uteri [C54.0-C54.9]',\n",
       "       'Uterus, not otherwise specified [C55.9]', 'Ovary [C56.9]',\n",
       "       'Other female genital system [C51.0-C51.9, C52.9, C57.0-C58.9]',\n",
       "       'Prostate [C61.9]', 'Testis [C62.0-C62.9]', 'Penis [C60.0-C60.9]',\n",
       "       'Other male genital organs [C63.0-C63.9]',\n",
       "       'Urinary bladder (including in situ) [C67.0-C67.9]',\n",
       "       'Kidney and renal pelvis [C64.9, C65.9]', 'Ureter [C66.9]',\n",
       "       'Other urinary organs [C68.0-C68.9]',\n",
       "       'Eye and orbit [C69.0-C69.9]', 'Brain [C71.0-C71.9]',\n",
       "       'Cranial nerves and other nervous system [C71.0-C71.9, 9530-9539; C70.0-C70.9, C72.0-C72.9]',\n",
       "       'Thyroid [C73.9]',\n",
       "       'Other endocrine [C37.9, C74.0-C74.9, C75.0-C75.9]',\n",
       "       'Hodgkin lymphoma [9650-9667]', 'Non-Hodgkin lymphoma',\n",
       "       'Myeloma [9731, 9732, 9734]',\n",
       "       'Acute lymphocytic leukemia [9826, 9835-9836;C42.0, 9811-9818, 9837;C42.1, 9811-9818, 9837;C42.4, 9811-9818, 9837]',\n",
       "       'Chronic lymphocytic leukemia [C42.0, 9823; C42.1, 9823; C42.4, 9823]',\n",
       "       'Acute myeloid leukemia [9840,9861,9865,9866,9867,9869,9871-9874,9895-9897,9898,9910,9911,9920]',\n",
       "       'Chronic myeloid leukemia [9863, 9875, 9876, 9945, 9946]',\n",
       "       'Other leukemia', 'Other, ill-defined and unknown sites',\n",
       "       'Mesothelioma [9050-9055]', 'Kaposi sarcoma [9140]'], dtype=object)"
      ]
     },
     "execution_count": 34,
     "metadata": {},
     "output_type": "execute_result"
    }
   ],
   "source": [
    "cancer_type"
   ]
  },
  {
   "cell_type": "code",
   "execution_count": 35,
   "metadata": {},
   "outputs": [
    {
     "data": {
      "text/plain": [
       "array(['Number of new cancer cases', 'Cancer incidence',\n",
       "       'Low 95% confidence interval, cancer incidence',\n",
       "       'High 95% confidence interval, cancer incidence'], dtype=object)"
      ]
     },
     "execution_count": 35,
     "metadata": {},
     "output_type": "execute_result"
    }
   ],
   "source": [
    "characteristics"
   ]
  },
  {
   "cell_type": "markdown",
   "metadata": {},
   "source": [
    "For this example, I am interested in the number of new cancer cases, for lung and Bronchus, for multiple age groups, both sexes, all of Canada. Notice that you can use the subsets....."
   ]
  },
  {
   "cell_type": "code",
   "execution_count": 65,
   "metadata": {},
   "outputs": [],
   "source": [
    "# Suppose I am interested in the following subset\n",
    "year = dates[15]\n",
    "sp_sex = sex[0]\n",
    "sp_age = age_group[7]\n",
    "geoLoc = geog[0]\n",
    "cancer = 'Lung and bronchus [C34.0-C34.9]'\n",
    "charac = 'Number of new cancer cases'"
   ]
  },
  {
   "cell_type": "code",
   "execution_count": null,
   "metadata": {},
   "outputs": [],
   "source": []
  },
  {
   "cell_type": "code",
   "execution_count": 68,
   "metadata": {},
   "outputs": [
    {
     "data": {
      "text/html": [
       "<div>\n",
       "<style scoped>\n",
       "    .dataframe tbody tr th:only-of-type {\n",
       "        vertical-align: middle;\n",
       "    }\n",
       "\n",
       "    .dataframe tbody tr th {\n",
       "        vertical-align: top;\n",
       "    }\n",
       "\n",
       "    .dataframe thead th {\n",
       "        text-align: right;\n",
       "    }\n",
       "</style>\n",
       "<table border=\"1\" class=\"dataframe\">\n",
       "  <thead>\n",
       "    <tr style=\"text-align: right;\">\n",
       "      <th></th>\n",
       "      <th>REF_DATE</th>\n",
       "      <th>GEO</th>\n",
       "      <th>Age group</th>\n",
       "      <th>Sex</th>\n",
       "      <th>Primary types of cancer (ICD-O-3)</th>\n",
       "      <th>Characteristics</th>\n",
       "      <th>SCALAR_FACTOR</th>\n",
       "      <th>VALUE</th>\n",
       "    </tr>\n",
       "  </thead>\n",
       "  <tbody>\n",
       "    <tr>\n",
       "      <th>3118588</th>\n",
       "      <td>2007</td>\n",
       "      <td>Canada</td>\n",
       "      <td>Total, all ages</td>\n",
       "      <td>Both sexes</td>\n",
       "      <td>Lung and bronchus [C34.0-C34.9]</td>\n",
       "      <td>Number of new cancer cases</td>\n",
       "      <td>units</td>\n",
       "      <td>23320.0</td>\n",
       "    </tr>\n",
       "    <tr>\n",
       "      <th>3119248</th>\n",
       "      <td>2007</td>\n",
       "      <td>Canada</td>\n",
       "      <td>0 to 4 years</td>\n",
       "      <td>Both sexes</td>\n",
       "      <td>Lung and bronchus [C34.0-C34.9]</td>\n",
       "      <td>Number of new cancer cases</td>\n",
       "      <td>units</td>\n",
       "      <td>0.0</td>\n",
       "    </tr>\n",
       "    <tr>\n",
       "      <th>3119908</th>\n",
       "      <td>2007</td>\n",
       "      <td>Canada</td>\n",
       "      <td>5 to 9 years</td>\n",
       "      <td>Both sexes</td>\n",
       "      <td>Lung and bronchus [C34.0-C34.9]</td>\n",
       "      <td>Number of new cancer cases</td>\n",
       "      <td>units</td>\n",
       "      <td>0.0</td>\n",
       "    </tr>\n",
       "    <tr>\n",
       "      <th>3120568</th>\n",
       "      <td>2007</td>\n",
       "      <td>Canada</td>\n",
       "      <td>10 to 14 years</td>\n",
       "      <td>Both sexes</td>\n",
       "      <td>Lung and bronchus [C34.0-C34.9]</td>\n",
       "      <td>Number of new cancer cases</td>\n",
       "      <td>units</td>\n",
       "      <td>0.0</td>\n",
       "    </tr>\n",
       "    <tr>\n",
       "      <th>3121228</th>\n",
       "      <td>2007</td>\n",
       "      <td>Canada</td>\n",
       "      <td>15 to 19 years</td>\n",
       "      <td>Both sexes</td>\n",
       "      <td>Lung and bronchus [C34.0-C34.9]</td>\n",
       "      <td>Number of new cancer cases</td>\n",
       "      <td>units</td>\n",
       "      <td>5.0</td>\n",
       "    </tr>\n",
       "    <tr>\n",
       "      <th>3121888</th>\n",
       "      <td>2007</td>\n",
       "      <td>Canada</td>\n",
       "      <td>20 to 24 years</td>\n",
       "      <td>Both sexes</td>\n",
       "      <td>Lung and bronchus [C34.0-C34.9]</td>\n",
       "      <td>Number of new cancer cases</td>\n",
       "      <td>units</td>\n",
       "      <td>5.0</td>\n",
       "    </tr>\n",
       "    <tr>\n",
       "      <th>3122548</th>\n",
       "      <td>2007</td>\n",
       "      <td>Canada</td>\n",
       "      <td>25 to 29 years</td>\n",
       "      <td>Both sexes</td>\n",
       "      <td>Lung and bronchus [C34.0-C34.9]</td>\n",
       "      <td>Number of new cancer cases</td>\n",
       "      <td>units</td>\n",
       "      <td>15.0</td>\n",
       "    </tr>\n",
       "    <tr>\n",
       "      <th>3123208</th>\n",
       "      <td>2007</td>\n",
       "      <td>Canada</td>\n",
       "      <td>30 to 34 years</td>\n",
       "      <td>Both sexes</td>\n",
       "      <td>Lung and bronchus [C34.0-C34.9]</td>\n",
       "      <td>Number of new cancer cases</td>\n",
       "      <td>units</td>\n",
       "      <td>20.0</td>\n",
       "    </tr>\n",
       "    <tr>\n",
       "      <th>3123868</th>\n",
       "      <td>2007</td>\n",
       "      <td>Canada</td>\n",
       "      <td>35 to 39 years</td>\n",
       "      <td>Both sexes</td>\n",
       "      <td>Lung and bronchus [C34.0-C34.9]</td>\n",
       "      <td>Number of new cancer cases</td>\n",
       "      <td>units</td>\n",
       "      <td>60.0</td>\n",
       "    </tr>\n",
       "    <tr>\n",
       "      <th>3124528</th>\n",
       "      <td>2007</td>\n",
       "      <td>Canada</td>\n",
       "      <td>40 to 44 years</td>\n",
       "      <td>Both sexes</td>\n",
       "      <td>Lung and bronchus [C34.0-C34.9]</td>\n",
       "      <td>Number of new cancer cases</td>\n",
       "      <td>units</td>\n",
       "      <td>225.0</td>\n",
       "    </tr>\n",
       "    <tr>\n",
       "      <th>3125188</th>\n",
       "      <td>2007</td>\n",
       "      <td>Canada</td>\n",
       "      <td>45 to 49 years</td>\n",
       "      <td>Both sexes</td>\n",
       "      <td>Lung and bronchus [C34.0-C34.9]</td>\n",
       "      <td>Number of new cancer cases</td>\n",
       "      <td>units</td>\n",
       "      <td>725.0</td>\n",
       "    </tr>\n",
       "    <tr>\n",
       "      <th>3125848</th>\n",
       "      <td>2007</td>\n",
       "      <td>Canada</td>\n",
       "      <td>50 to 54 years</td>\n",
       "      <td>Both sexes</td>\n",
       "      <td>Lung and bronchus [C34.0-C34.9]</td>\n",
       "      <td>Number of new cancer cases</td>\n",
       "      <td>units</td>\n",
       "      <td>1400.0</td>\n",
       "    </tr>\n",
       "    <tr>\n",
       "      <th>3126508</th>\n",
       "      <td>2007</td>\n",
       "      <td>Canada</td>\n",
       "      <td>55 to 59 years</td>\n",
       "      <td>Both sexes</td>\n",
       "      <td>Lung and bronchus [C34.0-C34.9]</td>\n",
       "      <td>Number of new cancer cases</td>\n",
       "      <td>units</td>\n",
       "      <td>2165.0</td>\n",
       "    </tr>\n",
       "    <tr>\n",
       "      <th>3127168</th>\n",
       "      <td>2007</td>\n",
       "      <td>Canada</td>\n",
       "      <td>60 to 64 years</td>\n",
       "      <td>Both sexes</td>\n",
       "      <td>Lung and bronchus [C34.0-C34.9]</td>\n",
       "      <td>Number of new cancer cases</td>\n",
       "      <td>units</td>\n",
       "      <td>3015.0</td>\n",
       "    </tr>\n",
       "    <tr>\n",
       "      <th>3127828</th>\n",
       "      <td>2007</td>\n",
       "      <td>Canada</td>\n",
       "      <td>65 to 69 years</td>\n",
       "      <td>Both sexes</td>\n",
       "      <td>Lung and bronchus [C34.0-C34.9]</td>\n",
       "      <td>Number of new cancer cases</td>\n",
       "      <td>units</td>\n",
       "      <td>3585.0</td>\n",
       "    </tr>\n",
       "    <tr>\n",
       "      <th>3128488</th>\n",
       "      <td>2007</td>\n",
       "      <td>Canada</td>\n",
       "      <td>70 to 74 years</td>\n",
       "      <td>Both sexes</td>\n",
       "      <td>Lung and bronchus [C34.0-C34.9]</td>\n",
       "      <td>Number of new cancer cases</td>\n",
       "      <td>units</td>\n",
       "      <td>3730.0</td>\n",
       "    </tr>\n",
       "    <tr>\n",
       "      <th>3129148</th>\n",
       "      <td>2007</td>\n",
       "      <td>Canada</td>\n",
       "      <td>75 to 79 years</td>\n",
       "      <td>Both sexes</td>\n",
       "      <td>Lung and bronchus [C34.0-C34.9]</td>\n",
       "      <td>Number of new cancer cases</td>\n",
       "      <td>units</td>\n",
       "      <td>3830.0</td>\n",
       "    </tr>\n",
       "    <tr>\n",
       "      <th>3129808</th>\n",
       "      <td>2007</td>\n",
       "      <td>Canada</td>\n",
       "      <td>80 to 84 years</td>\n",
       "      <td>Both sexes</td>\n",
       "      <td>Lung and bronchus [C34.0-C34.9]</td>\n",
       "      <td>Number of new cancer cases</td>\n",
       "      <td>units</td>\n",
       "      <td>2690.0</td>\n",
       "    </tr>\n",
       "    <tr>\n",
       "      <th>3130468</th>\n",
       "      <td>2007</td>\n",
       "      <td>Canada</td>\n",
       "      <td>85 to 89 years</td>\n",
       "      <td>Both sexes</td>\n",
       "      <td>Lung and bronchus [C34.0-C34.9]</td>\n",
       "      <td>Number of new cancer cases</td>\n",
       "      <td>units</td>\n",
       "      <td>1350.0</td>\n",
       "    </tr>\n",
       "    <tr>\n",
       "      <th>3131128</th>\n",
       "      <td>2007</td>\n",
       "      <td>Canada</td>\n",
       "      <td>90 years and over</td>\n",
       "      <td>Both sexes</td>\n",
       "      <td>Lung and bronchus [C34.0-C34.9]</td>\n",
       "      <td>Number of new cancer cases</td>\n",
       "      <td>units</td>\n",
       "      <td>510.0</td>\n",
       "    </tr>\n",
       "    <tr>\n",
       "      <th>3131788</th>\n",
       "      <td>2007</td>\n",
       "      <td>Canada</td>\n",
       "      <td>Age group, not stated</td>\n",
       "      <td>Both sexes</td>\n",
       "      <td>Lung and bronchus [C34.0-C34.9]</td>\n",
       "      <td>Number of new cancer cases</td>\n",
       "      <td>units</td>\n",
       "      <td>5.0</td>\n",
       "    </tr>\n",
       "  </tbody>\n",
       "</table>\n",
       "</div>"
      ],
      "text/plain": [
       "         REF_DATE     GEO              Age group         Sex  \\\n",
       "3118588      2007  Canada        Total, all ages  Both sexes   \n",
       "3119248      2007  Canada           0 to 4 years  Both sexes   \n",
       "3119908      2007  Canada           5 to 9 years  Both sexes   \n",
       "3120568      2007  Canada         10 to 14 years  Both sexes   \n",
       "3121228      2007  Canada         15 to 19 years  Both sexes   \n",
       "3121888      2007  Canada         20 to 24 years  Both sexes   \n",
       "3122548      2007  Canada         25 to 29 years  Both sexes   \n",
       "3123208      2007  Canada         30 to 34 years  Both sexes   \n",
       "3123868      2007  Canada         35 to 39 years  Both sexes   \n",
       "3124528      2007  Canada         40 to 44 years  Both sexes   \n",
       "3125188      2007  Canada         45 to 49 years  Both sexes   \n",
       "3125848      2007  Canada         50 to 54 years  Both sexes   \n",
       "3126508      2007  Canada         55 to 59 years  Both sexes   \n",
       "3127168      2007  Canada         60 to 64 years  Both sexes   \n",
       "3127828      2007  Canada         65 to 69 years  Both sexes   \n",
       "3128488      2007  Canada         70 to 74 years  Both sexes   \n",
       "3129148      2007  Canada         75 to 79 years  Both sexes   \n",
       "3129808      2007  Canada         80 to 84 years  Both sexes   \n",
       "3130468      2007  Canada         85 to 89 years  Both sexes   \n",
       "3131128      2007  Canada      90 years and over  Both sexes   \n",
       "3131788      2007  Canada  Age group, not stated  Both sexes   \n",
       "\n",
       "        Primary types of cancer (ICD-O-3)             Characteristics  \\\n",
       "3118588   Lung and bronchus [C34.0-C34.9]  Number of new cancer cases   \n",
       "3119248   Lung and bronchus [C34.0-C34.9]  Number of new cancer cases   \n",
       "3119908   Lung and bronchus [C34.0-C34.9]  Number of new cancer cases   \n",
       "3120568   Lung and bronchus [C34.0-C34.9]  Number of new cancer cases   \n",
       "3121228   Lung and bronchus [C34.0-C34.9]  Number of new cancer cases   \n",
       "3121888   Lung and bronchus [C34.0-C34.9]  Number of new cancer cases   \n",
       "3122548   Lung and bronchus [C34.0-C34.9]  Number of new cancer cases   \n",
       "3123208   Lung and bronchus [C34.0-C34.9]  Number of new cancer cases   \n",
       "3123868   Lung and bronchus [C34.0-C34.9]  Number of new cancer cases   \n",
       "3124528   Lung and bronchus [C34.0-C34.9]  Number of new cancer cases   \n",
       "3125188   Lung and bronchus [C34.0-C34.9]  Number of new cancer cases   \n",
       "3125848   Lung and bronchus [C34.0-C34.9]  Number of new cancer cases   \n",
       "3126508   Lung and bronchus [C34.0-C34.9]  Number of new cancer cases   \n",
       "3127168   Lung and bronchus [C34.0-C34.9]  Number of new cancer cases   \n",
       "3127828   Lung and bronchus [C34.0-C34.9]  Number of new cancer cases   \n",
       "3128488   Lung and bronchus [C34.0-C34.9]  Number of new cancer cases   \n",
       "3129148   Lung and bronchus [C34.0-C34.9]  Number of new cancer cases   \n",
       "3129808   Lung and bronchus [C34.0-C34.9]  Number of new cancer cases   \n",
       "3130468   Lung and bronchus [C34.0-C34.9]  Number of new cancer cases   \n",
       "3131128   Lung and bronchus [C34.0-C34.9]  Number of new cancer cases   \n",
       "3131788   Lung and bronchus [C34.0-C34.9]  Number of new cancer cases   \n",
       "\n",
       "        SCALAR_FACTOR    VALUE  \n",
       "3118588        units   23320.0  \n",
       "3119248        units       0.0  \n",
       "3119908        units       0.0  \n",
       "3120568        units       0.0  \n",
       "3121228        units       5.0  \n",
       "3121888        units       5.0  \n",
       "3122548        units      15.0  \n",
       "3123208        units      20.0  \n",
       "3123868        units      60.0  \n",
       "3124528        units     225.0  \n",
       "3125188        units     725.0  \n",
       "3125848        units    1400.0  \n",
       "3126508        units    2165.0  \n",
       "3127168        units    3015.0  \n",
       "3127828        units    3585.0  \n",
       "3128488        units    3730.0  \n",
       "3129148        units    3830.0  \n",
       "3129808        units    2690.0  \n",
       "3130468        units    1350.0  \n",
       "3131128        units     510.0  \n",
       "3131788        units       5.0  "
      ]
     },
     "execution_count": 68,
     "metadata": {},
     "output_type": "execute_result"
    }
   ],
   "source": [
    "# Extract entries in our dataset that contain the information I want\n",
    "# (clean_cancer_data[\"Age group\"]==sp_age)&\n",
    "\n",
    "subset_1 = clean_cancer_data[(clean_cancer_data[\"REF_DATE\"]== year) & (clean_cancer_data[\"Sex\"]==sp_sex) & \\\n",
    "                  (clean_cancer_data[\"GEO\"]==geoLoc)& (clean_cancer_data[\"Characteristics\"]==charac) & \\\n",
    "                  (clean_cancer_data[\"Primary types of cancer (ICD-O-3)\"]==cancer)]\n",
    "subset_1"
   ]
  },
  {
   "cell_type": "code",
   "execution_count": null,
   "metadata": {},
   "outputs": [],
   "source": [
    "Now we create...."
   ]
  },
  {
   "cell_type": "code",
   "execution_count": 75,
   "metadata": {},
   "outputs": [
    {
     "data": {
      "image/png": "[encoded data removed]",
      "text/plain": [
       "<Figure size 1080x720 with 1 Axes>"
      ]
     },
     "metadata": {
      "needs_background": "light"
     },
     "output_type": "display_data"
    }
   ],
   "source": [
    "# Plot a table \n",
    "# Specifying the figure size\n",
    "figure(figsize=(15,10))\n",
    "plt.bar(subset_1[\"Age group\"], subset_1[\"VALUE\"], label=cancer)\n",
    "plt.title(str(charac) + \", \" + str(year) + \", \" + str(geoLoc)+  \", \" + str(sp_sex)\\\n",
    "          + \", \" + str(cancer), fontsize=25)\n",
    "# Add x and y labels\n",
    "plt.xlabel(\"Number of New Cancer cases\", fontsize=10)\n",
    "plt.ylabel(\"Age group\", fontsize=10)\n",
    "#Rotats x axis label\n",
    "plt.xticks(rotation=90); # you can change it to 45 degrees\n"
   ]
  },
  {
   "cell_type": "markdown",
   "metadata": {},
   "source": [
    "<h2 align='center'>Remarks</h2>\n",
    "\n",
    "We see that there is an increase in number of new cancer cases, lung cancer and bronchus cancer, as individuals age."
   ]
  },
  {
   "cell_type": "markdown",
   "metadata": {},
   "source": [
    "<h2 align='center'>Generalizing</h2>\n",
    "\n",
    "In the next section, we will define a function that takes as input subcategories of the data and returns a barplot"
   ]
  },
  {
   "cell_type": "code",
   "execution_count": null,
   "metadata": {},
   "outputs": [],
   "source": [
    "def bar_plot_subcategories(year, sp_sex, geoLoc, charac, cancer):\n",
    "    subset_1 = clean_cancer_data[(clean_cancer_data[\"REF_DATE\"]== year) & (clean_cancer_data[\"Sex\"]==sp_sex) & \\\n",
    "                  (clean_cancer_data[\"GEO\"]==geoLoc)& \\\n",
    "                  (clean_cancer_data[\"Characteristics\"]==charac) & \\\n",
    "                  (clean_cancer_data[\"Primary types of cancer (ICD-O-3)\"]==cancer)]\n",
    "    # Plot a table \n",
    "    # Specifying the figure size\n",
    "    figure(figsize=(15,10))\n",
    "    plt.bar(subset_1[\"Age group\"], subset_1[\"VALUE\"], label=cancer)\n",
    "    plt.title(str(charac) + \", \" + str(year) + \", \" + str(geoLoc)+  \", \" + str(sp_sex)\\\n",
    "              + \", \" + str(cancer), fontsize=25)\n",
    "    # Add x and y labels\n",
    "    plt.xlabel(\"Number of New Cancer cases\", fontsize=10)\n",
    "    plt.ylabel(\"Age group\", fontsize=10)\n",
    "    #Rotats x axis label\n",
    "    plt.xticks(rotation=90); # you can change it to 45 degrees"
   ]
  },
  {
   "cell_type": "code",
   "execution_count": null,
   "metadata": {},
   "outputs": [],
   "source": [
    "# Suppose I am interested in the following subset\n",
    "year = dates[15]\n",
    "sp_sex = sex[0]\n",
    "sp_age = age_group[7]\n",
    "geoLoc = geog[0]\n",
    "cancer = 'Lung and bronchus [C34.0-C34.9]'\n",
    "charac = 'Number of new cancer cases'"
   ]
  },
  {
   "cell_type": "code",
   "execution_count": null,
   "metadata": {},
   "outputs": [],
   "source": []
  },
  {
   "cell_type": "code",
   "execution_count": null,
   "metadata": {},
   "outputs": [],
   "source": []
  },
  {
   "cell_type": "code",
   "execution_count": null,
   "metadata": {},
   "outputs": [],
   "source": []
  },
  {
   "cell_type": "code",
   "execution_count": null,
   "metadata": {},
   "outputs": [],
   "source": []
  },
  {
   "cell_type": "code",
   "execution_count": null,
   "metadata": {},
   "outputs": [],
   "source": []
  }
 ],
 "metadata": {
  "kernelspec": {
   "display_name": "Python 3",
   "language": "python",
   "name": "python3"
  },
  "language_info": {
   "codemirror_mode": {
    "name": "ipython",
    "version": 3
   },
   "file_extension": ".py",
   "mimetype": "text/x-python",
   "name": "python",
   "nbconvert_exporter": "python",
   "pygments_lexer": "ipython3",
   "version": "3.7.3"
  }
 },
 "nbformat": 4,
 "nbformat_minor": 2
}
